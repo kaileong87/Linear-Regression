{
 "cells": [
  {
   "cell_type": "markdown",
   "metadata": {},
   "source": [
    "___\n",
    "\n",
    "<a href='http://www.pieriandata.com'><img src='../Pierian_Data_Logo.png'/></a>\n",
    "___\n",
    "<center><em>Copyright by Pierian Data Inc.</em></center>\n",
    "<center><em>For more information, visit us at <a href='http://www.pieriandata.com'>www.pieriandata.com</a></em></center>"
   ]
  },
  {
   "cell_type": "markdown",
   "metadata": {},
   "source": [
    "# Linear Regression Project Exercise "
   ]
  },
  {
   "cell_type": "markdown",
   "metadata": {},
   "source": [
    "Now that we have learned about feature engineering, cross validation, and grid search, let's test all your new skills with a project exercise in Machine Learning. This exercise will have a more guided approach, later on the ML projects will begin to be more open-ended. We'll start off with using the final version of the Ames Housing dataset we worked on through the feature engineering section of the course. Your goal will be to create a Linear Regression Model, train it on the data with the optimal parameters using a grid search, and then evaluate the model's capabilities on a test set."
   ]
  },
  {
   "cell_type": "markdown",
   "metadata": {},
   "source": [
    "---\n",
    "---\n",
    "---\n",
    "## Complete the tasks in bold\n",
    "\n",
    "**TASK: Run the cells under the Imports and Data section to make sure you have imported the correct general libraries as well as the correct datasets. Later on you may need to run further imports from scikit-learn.**\n",
    "\n",
    "### Imports"
   ]
  },
  {
   "cell_type": "code",
   "execution_count": 1,
   "metadata": {},
   "outputs": [],
   "source": [
    "import numpy as np\n",
    "import pandas as pd\n",
    "import matplotlib.pyplot as plt\n",
    "import seaborn as sns"
   ]
  },
  {
   "cell_type": "markdown",
   "metadata": {},
   "source": [
    "### Data"
   ]
  },
  {
   "cell_type": "code",
   "execution_count": 2,
   "metadata": {},
   "outputs": [],
   "source": [
    "df = pd.read_csv(\"../DATA/AMES_Final_DF.csv\")"
   ]
  },
  {
   "cell_type": "code",
   "execution_count": 3,
   "metadata": {},
   "outputs": [
    {
     "data": {
      "text/html": [
       "<div>\n",
       "<style scoped>\n",
       "    .dataframe tbody tr th:only-of-type {\n",
       "        vertical-align: middle;\n",
       "    }\n",
       "\n",
       "    .dataframe tbody tr th {\n",
       "        vertical-align: top;\n",
       "    }\n",
       "\n",
       "    .dataframe thead th {\n",
       "        text-align: right;\n",
       "    }\n",
       "</style>\n",
       "<table border=\"1\" class=\"dataframe\">\n",
       "  <thead>\n",
       "    <tr style=\"text-align: right;\">\n",
       "      <th></th>\n",
       "      <th>Lot Frontage</th>\n",
       "      <th>Lot Area</th>\n",
       "      <th>Overall Qual</th>\n",
       "      <th>Overall Cond</th>\n",
       "      <th>Year Built</th>\n",
       "      <th>Year Remod/Add</th>\n",
       "      <th>Mas Vnr Area</th>\n",
       "      <th>BsmtFin SF 1</th>\n",
       "      <th>BsmtFin SF 2</th>\n",
       "      <th>Bsmt Unf SF</th>\n",
       "      <th>...</th>\n",
       "      <th>Sale Type_ConLw</th>\n",
       "      <th>Sale Type_New</th>\n",
       "      <th>Sale Type_Oth</th>\n",
       "      <th>Sale Type_VWD</th>\n",
       "      <th>Sale Type_WD</th>\n",
       "      <th>Sale Condition_AdjLand</th>\n",
       "      <th>Sale Condition_Alloca</th>\n",
       "      <th>Sale Condition_Family</th>\n",
       "      <th>Sale Condition_Normal</th>\n",
       "      <th>Sale Condition_Partial</th>\n",
       "    </tr>\n",
       "  </thead>\n",
       "  <tbody>\n",
       "    <tr>\n",
       "      <th>0</th>\n",
       "      <td>141.0</td>\n",
       "      <td>31770</td>\n",
       "      <td>6</td>\n",
       "      <td>5</td>\n",
       "      <td>1960</td>\n",
       "      <td>1960</td>\n",
       "      <td>112.0</td>\n",
       "      <td>639.0</td>\n",
       "      <td>0.0</td>\n",
       "      <td>441.0</td>\n",
       "      <td>...</td>\n",
       "      <td>0</td>\n",
       "      <td>0</td>\n",
       "      <td>0</td>\n",
       "      <td>0</td>\n",
       "      <td>1</td>\n",
       "      <td>0</td>\n",
       "      <td>0</td>\n",
       "      <td>0</td>\n",
       "      <td>1</td>\n",
       "      <td>0</td>\n",
       "    </tr>\n",
       "    <tr>\n",
       "      <th>1</th>\n",
       "      <td>80.0</td>\n",
       "      <td>11622</td>\n",
       "      <td>5</td>\n",
       "      <td>6</td>\n",
       "      <td>1961</td>\n",
       "      <td>1961</td>\n",
       "      <td>0.0</td>\n",
       "      <td>468.0</td>\n",
       "      <td>144.0</td>\n",
       "      <td>270.0</td>\n",
       "      <td>...</td>\n",
       "      <td>0</td>\n",
       "      <td>0</td>\n",
       "      <td>0</td>\n",
       "      <td>0</td>\n",
       "      <td>1</td>\n",
       "      <td>0</td>\n",
       "      <td>0</td>\n",
       "      <td>0</td>\n",
       "      <td>1</td>\n",
       "      <td>0</td>\n",
       "    </tr>\n",
       "    <tr>\n",
       "      <th>2</th>\n",
       "      <td>81.0</td>\n",
       "      <td>14267</td>\n",
       "      <td>6</td>\n",
       "      <td>6</td>\n",
       "      <td>1958</td>\n",
       "      <td>1958</td>\n",
       "      <td>108.0</td>\n",
       "      <td>923.0</td>\n",
       "      <td>0.0</td>\n",
       "      <td>406.0</td>\n",
       "      <td>...</td>\n",
       "      <td>0</td>\n",
       "      <td>0</td>\n",
       "      <td>0</td>\n",
       "      <td>0</td>\n",
       "      <td>1</td>\n",
       "      <td>0</td>\n",
       "      <td>0</td>\n",
       "      <td>0</td>\n",
       "      <td>1</td>\n",
       "      <td>0</td>\n",
       "    </tr>\n",
       "    <tr>\n",
       "      <th>3</th>\n",
       "      <td>93.0</td>\n",
       "      <td>11160</td>\n",
       "      <td>7</td>\n",
       "      <td>5</td>\n",
       "      <td>1968</td>\n",
       "      <td>1968</td>\n",
       "      <td>0.0</td>\n",
       "      <td>1065.0</td>\n",
       "      <td>0.0</td>\n",
       "      <td>1045.0</td>\n",
       "      <td>...</td>\n",
       "      <td>0</td>\n",
       "      <td>0</td>\n",
       "      <td>0</td>\n",
       "      <td>0</td>\n",
       "      <td>1</td>\n",
       "      <td>0</td>\n",
       "      <td>0</td>\n",
       "      <td>0</td>\n",
       "      <td>1</td>\n",
       "      <td>0</td>\n",
       "    </tr>\n",
       "    <tr>\n",
       "      <th>4</th>\n",
       "      <td>74.0</td>\n",
       "      <td>13830</td>\n",
       "      <td>5</td>\n",
       "      <td>5</td>\n",
       "      <td>1997</td>\n",
       "      <td>1998</td>\n",
       "      <td>0.0</td>\n",
       "      <td>791.0</td>\n",
       "      <td>0.0</td>\n",
       "      <td>137.0</td>\n",
       "      <td>...</td>\n",
       "      <td>0</td>\n",
       "      <td>0</td>\n",
       "      <td>0</td>\n",
       "      <td>0</td>\n",
       "      <td>1</td>\n",
       "      <td>0</td>\n",
       "      <td>0</td>\n",
       "      <td>0</td>\n",
       "      <td>1</td>\n",
       "      <td>0</td>\n",
       "    </tr>\n",
       "  </tbody>\n",
       "</table>\n",
       "<p>5 rows × 274 columns</p>\n",
       "</div>"
      ],
      "text/plain": [
       "   Lot Frontage  Lot Area  Overall Qual  Overall Cond  Year Built  \\\n",
       "0         141.0     31770             6             5        1960   \n",
       "1          80.0     11622             5             6        1961   \n",
       "2          81.0     14267             6             6        1958   \n",
       "3          93.0     11160             7             5        1968   \n",
       "4          74.0     13830             5             5        1997   \n",
       "\n",
       "   Year Remod/Add  Mas Vnr Area  BsmtFin SF 1  BsmtFin SF 2  Bsmt Unf SF  ...  \\\n",
       "0            1960         112.0         639.0           0.0        441.0  ...   \n",
       "1            1961           0.0         468.0         144.0        270.0  ...   \n",
       "2            1958         108.0         923.0           0.0        406.0  ...   \n",
       "3            1968           0.0        1065.0           0.0       1045.0  ...   \n",
       "4            1998           0.0         791.0           0.0        137.0  ...   \n",
       "\n",
       "   Sale Type_ConLw  Sale Type_New  Sale Type_Oth  Sale Type_VWD  \\\n",
       "0                0              0              0              0   \n",
       "1                0              0              0              0   \n",
       "2                0              0              0              0   \n",
       "3                0              0              0              0   \n",
       "4                0              0              0              0   \n",
       "\n",
       "   Sale Type_WD   Sale Condition_AdjLand  Sale Condition_Alloca  \\\n",
       "0              1                       0                      0   \n",
       "1              1                       0                      0   \n",
       "2              1                       0                      0   \n",
       "3              1                       0                      0   \n",
       "4              1                       0                      0   \n",
       "\n",
       "   Sale Condition_Family  Sale Condition_Normal  Sale Condition_Partial  \n",
       "0                      0                      1                       0  \n",
       "1                      0                      1                       0  \n",
       "2                      0                      1                       0  \n",
       "3                      0                      1                       0  \n",
       "4                      0                      1                       0  \n",
       "\n",
       "[5 rows x 274 columns]"
      ]
     },
     "execution_count": 3,
     "metadata": {},
     "output_type": "execute_result"
    }
   ],
   "source": [
    "df.head()"
   ]
  },
  {
   "cell_type": "code",
   "execution_count": 4,
   "metadata": {},
   "outputs": [
    {
     "name": "stdout",
     "output_type": "stream",
     "text": [
      "<class 'pandas.core.frame.DataFrame'>\n",
      "RangeIndex: 2925 entries, 0 to 2924\n",
      "Columns: 274 entries, Lot Frontage to Sale Condition_Partial\n",
      "dtypes: float64(11), int64(263)\n",
      "memory usage: 6.1 MB\n"
     ]
    }
   ],
   "source": [
    "df.info()"
   ]
  },
  {
   "cell_type": "markdown",
   "metadata": {},
   "source": [
    "**TASK: The label we are trying to predict is the SalePrice column. Separate out the data into X features and y labels**"
   ]
  },
  {
   "cell_type": "code",
   "execution_count": 7,
   "metadata": {},
   "outputs": [],
   "source": [
    "X = df.drop('SalePrice', axis=1)\n",
    "y = df['SalePrice']"
   ]
  },
  {
   "cell_type": "markdown",
   "metadata": {},
   "source": [
    "**TASK: Use scikit-learn to split up X and y into a training set and test set. Since we will later be using a Grid Search strategy, set your test proportion to 10%. To get the same data split as the solutions notebook, you can specify random_state = 101**"
   ]
  },
  {
   "cell_type": "code",
   "execution_count": 8,
   "metadata": {},
   "outputs": [],
   "source": [
    "from sklearn.model_selection import train_test_split\n",
    "from sklearn.preprocessing import StandardScaler"
   ]
  },
  {
   "cell_type": "code",
   "execution_count": 9,
   "metadata": {},
   "outputs": [],
   "source": [
    "X_train, X_test, y_train, y_test = train_test_split(X, y, test_size=0.1, random_state=101)"
   ]
  },
  {
   "cell_type": "markdown",
   "metadata": {},
   "source": [
    "**TASK: The dataset features has a variety of scales and units. For optimal regression performance, scale the X features. Take carefuly note of what to use for .fit() vs what to use for .transform()**"
   ]
  },
  {
   "cell_type": "code",
   "execution_count": 10,
   "metadata": {},
   "outputs": [],
   "source": [
    "scaler = StandardScaler()\n",
    "scaler.fit(X_train)\n",
    "X_train = scaler.transform(X_train)\n",
    "X_test = scaler.transform(X_test)"
   ]
  },
  {
   "cell_type": "markdown",
   "metadata": {},
   "source": [
    "**TASK: We will use an Elastic Net model. Create an instance of default ElasticNet model with scikit-learn**"
   ]
  },
  {
   "cell_type": "code",
   "execution_count": 11,
   "metadata": {},
   "outputs": [],
   "source": [
    "from sklearn.linear_model import ElasticNet"
   ]
  },
  {
   "cell_type": "code",
   "execution_count": 12,
   "metadata": {},
   "outputs": [],
   "source": [
    "ElasticNet = ElasticNet()"
   ]
  },
  {
   "cell_type": "markdown",
   "metadata": {},
   "source": [
    "**TASK:  The Elastic Net model has two main parameters, alpha and the L1 ratio. Create a dictionary parameter grid of values for the ElasticNet. Feel free to play around with these values, keep in mind, you may not match up exactly with the solution choices**"
   ]
  },
  {
   "cell_type": "code",
   "execution_count": 13,
   "metadata": {},
   "outputs": [],
   "source": [
    "param_grid = {\"alpha\":[0.1, 0.5, 1, 10, 100]\n",
    "             , \"l1_ratio\": [0.1, 0.3, 0.5, 0.7, 0.9, 0.99, 1]}"
   ]
  },
  {
   "cell_type": "markdown",
   "metadata": {},
   "source": [
    "**TASK: Using scikit-learn create a GridSearchCV object and run a grid search for the best parameters for your model based on your scaled training data. [In case you are curious about the warnings you may recieve for certain parameter combinations](https://stackoverflow.com/questions/20681864/lasso-on-sklearn-does-not-converge)**"
   ]
  },
  {
   "cell_type": "code",
   "execution_count": 14,
   "metadata": {},
   "outputs": [],
   "source": [
    "from sklearn.model_selection import GridSearchCV"
   ]
  },
  {
   "cell_type": "code",
   "execution_count": 15,
   "metadata": {},
   "outputs": [],
   "source": [
    "model = GridSearchCV(ElasticNet, param_grid = param_grid, cv = 5, verbose = 2, scoring = 'neg_mean_squared_error')"
   ]
  },
  {
   "cell_type": "code",
   "execution_count": 17,
   "metadata": {},
   "outputs": [
    {
     "name": "stderr",
     "output_type": "stream",
     "text": [
      "[Parallel(n_jobs=1)]: Using backend SequentialBackend with 1 concurrent workers.\n",
      "[Parallel(n_jobs=1)]: Done   1 out of   1 | elapsed:    0.1s remaining:    0.0s\n"
     ]
    },
    {
     "name": "stdout",
     "output_type": "stream",
     "text": [
      "Fitting 5 folds for each of 35 candidates, totalling 175 fits\n",
      "[CV] alpha=0.1, l1_ratio=0.1 .........................................\n",
      "[CV] .......................... alpha=0.1, l1_ratio=0.1, total=   0.2s\n",
      "[CV] alpha=0.1, l1_ratio=0.1 .........................................\n",
      "[CV] .......................... alpha=0.1, l1_ratio=0.1, total=   0.3s\n",
      "[CV] alpha=0.1, l1_ratio=0.1 .........................................\n",
      "[CV] .......................... alpha=0.1, l1_ratio=0.1, total=   0.2s\n",
      "[CV] alpha=0.1, l1_ratio=0.1 .........................................\n",
      "[CV] .......................... alpha=0.1, l1_ratio=0.1, total=   0.2s\n",
      "[CV] alpha=0.1, l1_ratio=0.1 .........................................\n",
      "[CV] .......................... alpha=0.1, l1_ratio=0.1, total=   0.3s\n",
      "[CV] alpha=0.1, l1_ratio=0.3 .........................................\n",
      "[CV] .......................... alpha=0.1, l1_ratio=0.3, total=   0.2s\n",
      "[CV] alpha=0.1, l1_ratio=0.3 .........................................\n",
      "[CV] .......................... alpha=0.1, l1_ratio=0.3, total=   0.2s\n",
      "[CV] alpha=0.1, l1_ratio=0.3 .........................................\n",
      "[CV] .......................... alpha=0.1, l1_ratio=0.3, total=   0.2s\n",
      "[CV] alpha=0.1, l1_ratio=0.3 .........................................\n",
      "[CV] .......................... alpha=0.1, l1_ratio=0.3, total=   0.2s\n",
      "[CV] alpha=0.1, l1_ratio=0.3 .........................................\n",
      "[CV] .......................... alpha=0.1, l1_ratio=0.3, total=   0.2s\n",
      "[CV] alpha=0.1, l1_ratio=0.5 .........................................\n",
      "[CV] .......................... alpha=0.1, l1_ratio=0.5, total=   0.3s\n",
      "[CV] alpha=0.1, l1_ratio=0.5 .........................................\n",
      "[CV] .......................... alpha=0.1, l1_ratio=0.5, total=   0.2s\n",
      "[CV] alpha=0.1, l1_ratio=0.5 .........................................\n",
      "[CV] .......................... alpha=0.1, l1_ratio=0.5, total=   0.3s\n",
      "[CV] alpha=0.1, l1_ratio=0.5 .........................................\n",
      "[CV] .......................... alpha=0.1, l1_ratio=0.5, total=   0.2s\n",
      "[CV] alpha=0.1, l1_ratio=0.5 .........................................\n",
      "[CV] .......................... alpha=0.1, l1_ratio=0.5, total=   0.3s\n",
      "[CV] alpha=0.1, l1_ratio=0.7 .........................................\n",
      "[CV] .......................... alpha=0.1, l1_ratio=0.7, total=   0.3s\n",
      "[CV] alpha=0.1, l1_ratio=0.7 .........................................\n",
      "[CV] .......................... alpha=0.1, l1_ratio=0.7, total=   0.4s\n",
      "[CV] alpha=0.1, l1_ratio=0.7 .........................................\n",
      "[CV] .......................... alpha=0.1, l1_ratio=0.7, total=   0.3s\n",
      "[CV] alpha=0.1, l1_ratio=0.7 .........................................\n",
      "[CV] .......................... alpha=0.1, l1_ratio=0.7, total=   0.3s\n",
      "[CV] alpha=0.1, l1_ratio=0.7 .........................................\n",
      "[CV] .......................... alpha=0.1, l1_ratio=0.7, total=   0.4s\n",
      "[CV] alpha=0.1, l1_ratio=0.9 .........................................\n"
     ]
    },
    {
     "name": "stderr",
     "output_type": "stream",
     "text": [
      "C:\\Users\\kaile\\Anaconda3\\lib\\site-packages\\sklearn\\linear_model\\coordinate_descent.py:475: ConvergenceWarning: Objective did not converge. You might want to increase the number of iterations. Duality gap: 139422008252.8966, tolerance: 1355206692.5276787\n",
      "  positive)\n"
     ]
    },
    {
     "name": "stdout",
     "output_type": "stream",
     "text": [
      "[CV] .......................... alpha=0.1, l1_ratio=0.9, total=   0.6s\n",
      "[CV] alpha=0.1, l1_ratio=0.9 .........................................\n"
     ]
    },
    {
     "name": "stderr",
     "output_type": "stream",
     "text": [
      "C:\\Users\\kaile\\Anaconda3\\lib\\site-packages\\sklearn\\linear_model\\coordinate_descent.py:475: ConvergenceWarning: Objective did not converge. You might want to increase the number of iterations. Duality gap: 165405536737.8873, tolerance: 1307913805.6588454\n",
      "  positive)\n"
     ]
    },
    {
     "name": "stdout",
     "output_type": "stream",
     "text": [
      "[CV] .......................... alpha=0.1, l1_ratio=0.9, total=   0.6s\n",
      "[CV] alpha=0.1, l1_ratio=0.9 .........................................\n"
     ]
    },
    {
     "name": "stderr",
     "output_type": "stream",
     "text": [
      "C:\\Users\\kaile\\Anaconda3\\lib\\site-packages\\sklearn\\linear_model\\coordinate_descent.py:475: ConvergenceWarning: Objective did not converge. You might want to increase the number of iterations. Duality gap: 132401459344.50098, tolerance: 1415056940.006106\n",
      "  positive)\n"
     ]
    },
    {
     "name": "stdout",
     "output_type": "stream",
     "text": [
      "[CV] .......................... alpha=0.1, l1_ratio=0.9, total=   0.6s\n",
      "[CV] alpha=0.1, l1_ratio=0.9 .........................................\n"
     ]
    },
    {
     "name": "stderr",
     "output_type": "stream",
     "text": [
      "C:\\Users\\kaile\\Anaconda3\\lib\\site-packages\\sklearn\\linear_model\\coordinate_descent.py:475: ConvergenceWarning: Objective did not converge. You might want to increase the number of iterations. Duality gap: 198623915721.07388, tolerance: 1438198040.088288\n",
      "  positive)\n"
     ]
    },
    {
     "name": "stdout",
     "output_type": "stream",
     "text": [
      "[CV] .......................... alpha=0.1, l1_ratio=0.9, total=   0.6s\n",
      "[CV] alpha=0.1, l1_ratio=0.9 .........................................\n"
     ]
    },
    {
     "name": "stderr",
     "output_type": "stream",
     "text": [
      "C:\\Users\\kaile\\Anaconda3\\lib\\site-packages\\sklearn\\linear_model\\coordinate_descent.py:475: ConvergenceWarning: Objective did not converge. You might want to increase the number of iterations. Duality gap: 155332691866.35223, tolerance: 1345680018.2551236\n",
      "  positive)\n"
     ]
    },
    {
     "name": "stdout",
     "output_type": "stream",
     "text": [
      "[CV] .......................... alpha=0.1, l1_ratio=0.9, total=   0.7s\n",
      "[CV] alpha=0.1, l1_ratio=0.99 ........................................\n"
     ]
    },
    {
     "name": "stderr",
     "output_type": "stream",
     "text": [
      "C:\\Users\\kaile\\Anaconda3\\lib\\site-packages\\sklearn\\linear_model\\coordinate_descent.py:475: ConvergenceWarning: Objective did not converge. You might want to increase the number of iterations. Duality gap: 354244712120.81396, tolerance: 1355206692.5276787\n",
      "  positive)\n"
     ]
    },
    {
     "name": "stdout",
     "output_type": "stream",
     "text": [
      "[CV] ......................... alpha=0.1, l1_ratio=0.99, total=   0.5s\n",
      "[CV] alpha=0.1, l1_ratio=0.99 ........................................\n"
     ]
    },
    {
     "name": "stderr",
     "output_type": "stream",
     "text": [
      "C:\\Users\\kaile\\Anaconda3\\lib\\site-packages\\sklearn\\linear_model\\coordinate_descent.py:475: ConvergenceWarning: Objective did not converge. You might want to increase the number of iterations. Duality gap: 363490863623.8174, tolerance: 1307913805.6588454\n",
      "  positive)\n"
     ]
    },
    {
     "name": "stdout",
     "output_type": "stream",
     "text": [
      "[CV] ......................... alpha=0.1, l1_ratio=0.99, total=   0.4s\n",
      "[CV] alpha=0.1, l1_ratio=0.99 ........................................\n"
     ]
    },
    {
     "name": "stderr",
     "output_type": "stream",
     "text": [
      "C:\\Users\\kaile\\Anaconda3\\lib\\site-packages\\sklearn\\linear_model\\coordinate_descent.py:475: ConvergenceWarning: Objective did not converge. You might want to increase the number of iterations. Duality gap: 408539308800.7911, tolerance: 1415056940.006106\n",
      "  positive)\n"
     ]
    },
    {
     "name": "stdout",
     "output_type": "stream",
     "text": [
      "[CV] ......................... alpha=0.1, l1_ratio=0.99, total=   0.5s\n",
      "[CV] alpha=0.1, l1_ratio=0.99 ........................................\n"
     ]
    },
    {
     "name": "stderr",
     "output_type": "stream",
     "text": [
      "C:\\Users\\kaile\\Anaconda3\\lib\\site-packages\\sklearn\\linear_model\\coordinate_descent.py:475: ConvergenceWarning: Objective did not converge. You might want to increase the number of iterations. Duality gap: 407083927692.87225, tolerance: 1438198040.088288\n",
      "  positive)\n"
     ]
    },
    {
     "name": "stdout",
     "output_type": "stream",
     "text": [
      "[CV] ......................... alpha=0.1, l1_ratio=0.99, total=   0.5s\n",
      "[CV] alpha=0.1, l1_ratio=0.99 ........................................\n"
     ]
    },
    {
     "name": "stderr",
     "output_type": "stream",
     "text": [
      "C:\\Users\\kaile\\Anaconda3\\lib\\site-packages\\sklearn\\linear_model\\coordinate_descent.py:475: ConvergenceWarning: Objective did not converge. You might want to increase the number of iterations. Duality gap: 355296428563.45685, tolerance: 1345680018.2551236\n",
      "  positive)\n"
     ]
    },
    {
     "name": "stdout",
     "output_type": "stream",
     "text": [
      "[CV] ......................... alpha=0.1, l1_ratio=0.99, total=   0.5s\n",
      "[CV] alpha=0.1, l1_ratio=1 ...........................................\n"
     ]
    },
    {
     "name": "stderr",
     "output_type": "stream",
     "text": [
      "C:\\Users\\kaile\\Anaconda3\\lib\\site-packages\\sklearn\\linear_model\\coordinate_descent.py:475: ConvergenceWarning: Objective did not converge. You might want to increase the number of iterations. Duality gap: 349811975084.8034, tolerance: 1355206692.5276787\n",
      "  positive)\n"
     ]
    },
    {
     "name": "stdout",
     "output_type": "stream",
     "text": [
      "[CV] ............................ alpha=0.1, l1_ratio=1, total=   0.5s\n",
      "[CV] alpha=0.1, l1_ratio=1 ...........................................\n"
     ]
    },
    {
     "name": "stderr",
     "output_type": "stream",
     "text": [
      "C:\\Users\\kaile\\Anaconda3\\lib\\site-packages\\sklearn\\linear_model\\coordinate_descent.py:475: ConvergenceWarning: Objective did not converge. You might want to increase the number of iterations. Duality gap: 359107413789.8296, tolerance: 1307913805.6588454\n",
      "  positive)\n"
     ]
    },
    {
     "name": "stdout",
     "output_type": "stream",
     "text": [
      "[CV] ............................ alpha=0.1, l1_ratio=1, total=   0.5s\n",
      "[CV] alpha=0.1, l1_ratio=1 ...........................................\n"
     ]
    },
    {
     "name": "stderr",
     "output_type": "stream",
     "text": [
      "C:\\Users\\kaile\\Anaconda3\\lib\\site-packages\\sklearn\\linear_model\\coordinate_descent.py:475: ConvergenceWarning: Objective did not converge. You might want to increase the number of iterations. Duality gap: 406611694447.3499, tolerance: 1415056940.006106\n",
      "  positive)\n"
     ]
    },
    {
     "name": "stdout",
     "output_type": "stream",
     "text": [
      "[CV] ............................ alpha=0.1, l1_ratio=1, total=   0.5s\n",
      "[CV] alpha=0.1, l1_ratio=1 ...........................................\n"
     ]
    },
    {
     "name": "stderr",
     "output_type": "stream",
     "text": [
      "C:\\Users\\kaile\\Anaconda3\\lib\\site-packages\\sklearn\\linear_model\\coordinate_descent.py:475: ConvergenceWarning: Objective did not converge. You might want to increase the number of iterations. Duality gap: 402834204598.1311, tolerance: 1438198040.088288\n",
      "  positive)\n"
     ]
    },
    {
     "name": "stdout",
     "output_type": "stream",
     "text": [
      "[CV] ............................ alpha=0.1, l1_ratio=1, total=   0.5s\n",
      "[CV] alpha=0.1, l1_ratio=1 ...........................................\n"
     ]
    },
    {
     "name": "stderr",
     "output_type": "stream",
     "text": [
      "C:\\Users\\kaile\\Anaconda3\\lib\\site-packages\\sklearn\\linear_model\\coordinate_descent.py:475: ConvergenceWarning: Objective did not converge. You might want to increase the number of iterations. Duality gap: 368658319394.373, tolerance: 1345680018.2551236\n",
      "  positive)\n"
     ]
    },
    {
     "name": "stdout",
     "output_type": "stream",
     "text": [
      "[CV] ............................ alpha=0.1, l1_ratio=1, total=   0.5s\n",
      "[CV] alpha=0.5, l1_ratio=0.1 .........................................\n",
      "[CV] .......................... alpha=0.5, l1_ratio=0.1, total=   0.1s\n",
      "[CV] alpha=0.5, l1_ratio=0.1 .........................................\n",
      "[CV] .......................... alpha=0.5, l1_ratio=0.1, total=   0.1s\n",
      "[CV] alpha=0.5, l1_ratio=0.1 .........................................\n",
      "[CV] .......................... alpha=0.5, l1_ratio=0.1, total=   0.1s\n",
      "[CV] alpha=0.5, l1_ratio=0.1 .........................................\n",
      "[CV] .......................... alpha=0.5, l1_ratio=0.1, total=   0.1s\n",
      "[CV] alpha=0.5, l1_ratio=0.1 .........................................\n",
      "[CV] .......................... alpha=0.5, l1_ratio=0.1, total=   0.1s\n",
      "[CV] alpha=0.5, l1_ratio=0.3 .........................................\n",
      "[CV] .......................... alpha=0.5, l1_ratio=0.3, total=   0.1s\n",
      "[CV] alpha=0.5, l1_ratio=0.3 .........................................\n",
      "[CV] .......................... alpha=0.5, l1_ratio=0.3, total=   0.2s\n",
      "[CV] alpha=0.5, l1_ratio=0.3 .........................................\n",
      "[CV] .......................... alpha=0.5, l1_ratio=0.3, total=   0.2s\n",
      "[CV] alpha=0.5, l1_ratio=0.3 .........................................\n",
      "[CV] .......................... alpha=0.5, l1_ratio=0.3, total=   0.2s\n",
      "[CV] alpha=0.5, l1_ratio=0.3 .........................................\n",
      "[CV] .......................... alpha=0.5, l1_ratio=0.3, total=   0.1s\n",
      "[CV] alpha=0.5, l1_ratio=0.5 .........................................\n",
      "[CV] .......................... alpha=0.5, l1_ratio=0.5, total=   0.1s\n",
      "[CV] alpha=0.5, l1_ratio=0.5 .........................................\n",
      "[CV] .......................... alpha=0.5, l1_ratio=0.5, total=   0.3s\n",
      "[CV] alpha=0.5, l1_ratio=0.5 .........................................\n",
      "[CV] .......................... alpha=0.5, l1_ratio=0.5, total=   0.2s\n",
      "[CV] alpha=0.5, l1_ratio=0.5 .........................................\n",
      "[CV] .......................... alpha=0.5, l1_ratio=0.5, total=   0.2s\n",
      "[CV] alpha=0.5, l1_ratio=0.5 .........................................\n",
      "[CV] .......................... alpha=0.5, l1_ratio=0.5, total=   0.2s\n",
      "[CV] alpha=0.5, l1_ratio=0.7 .........................................\n",
      "[CV] .......................... alpha=0.5, l1_ratio=0.7, total=   0.2s\n",
      "[CV] alpha=0.5, l1_ratio=0.7 .........................................\n",
      "[CV] .......................... alpha=0.5, l1_ratio=0.7, total=   0.1s\n",
      "[CV] alpha=0.5, l1_ratio=0.7 .........................................\n",
      "[CV] .......................... alpha=0.5, l1_ratio=0.7, total=   0.2s\n",
      "[CV] alpha=0.5, l1_ratio=0.7 .........................................\n",
      "[CV] .......................... alpha=0.5, l1_ratio=0.7, total=   0.2s\n",
      "[CV] alpha=0.5, l1_ratio=0.7 .........................................\n",
      "[CV] .......................... alpha=0.5, l1_ratio=0.7, total=   0.2s\n",
      "[CV] alpha=0.5, l1_ratio=0.9 .........................................\n",
      "[CV] .......................... alpha=0.5, l1_ratio=0.9, total=   0.2s\n",
      "[CV] alpha=0.5, l1_ratio=0.9 .........................................\n",
      "[CV] .......................... alpha=0.5, l1_ratio=0.9, total=   0.2s\n",
      "[CV] alpha=0.5, l1_ratio=0.9 .........................................\n",
      "[CV] .......................... alpha=0.5, l1_ratio=0.9, total=   0.2s\n",
      "[CV] alpha=0.5, l1_ratio=0.9 .........................................\n",
      "[CV] .......................... alpha=0.5, l1_ratio=0.9, total=   0.2s\n",
      "[CV] alpha=0.5, l1_ratio=0.9 .........................................\n",
      "[CV] .......................... alpha=0.5, l1_ratio=0.9, total=   0.2s\n",
      "[CV] alpha=0.5, l1_ratio=0.99 ........................................\n"
     ]
    },
    {
     "name": "stderr",
     "output_type": "stream",
     "text": [
      "C:\\Users\\kaile\\Anaconda3\\lib\\site-packages\\sklearn\\linear_model\\coordinate_descent.py:475: ConvergenceWarning: Objective did not converge. You might want to increase the number of iterations. Duality gap: 192511225217.1518, tolerance: 1355206692.5276787\n",
      "  positive)\n"
     ]
    },
    {
     "name": "stdout",
     "output_type": "stream",
     "text": [
      "[CV] ......................... alpha=0.5, l1_ratio=0.99, total=   0.5s\n",
      "[CV] alpha=0.5, l1_ratio=0.99 ........................................\n"
     ]
    },
    {
     "name": "stderr",
     "output_type": "stream",
     "text": [
      "C:\\Users\\kaile\\Anaconda3\\lib\\site-packages\\sklearn\\linear_model\\coordinate_descent.py:475: ConvergenceWarning: Objective did not converge. You might want to increase the number of iterations. Duality gap: 211384513156.95303, tolerance: 1307913805.6588454\n",
      "  positive)\n"
     ]
    },
    {
     "name": "stdout",
     "output_type": "stream",
     "text": [
      "[CV] ......................... alpha=0.5, l1_ratio=0.99, total=   0.5s\n",
      "[CV] alpha=0.5, l1_ratio=0.99 ........................................\n"
     ]
    },
    {
     "name": "stderr",
     "output_type": "stream",
     "text": [
      "C:\\Users\\kaile\\Anaconda3\\lib\\site-packages\\sklearn\\linear_model\\coordinate_descent.py:475: ConvergenceWarning: Objective did not converge. You might want to increase the number of iterations. Duality gap: 185511684223.8493, tolerance: 1415056940.006106\n",
      "  positive)\n"
     ]
    },
    {
     "name": "stdout",
     "output_type": "stream",
     "text": [
      "[CV] ......................... alpha=0.5, l1_ratio=0.99, total=   0.6s\n",
      "[CV] alpha=0.5, l1_ratio=0.99 ........................................\n"
     ]
    },
    {
     "name": "stderr",
     "output_type": "stream",
     "text": [
      "C:\\Users\\kaile\\Anaconda3\\lib\\site-packages\\sklearn\\linear_model\\coordinate_descent.py:475: ConvergenceWarning: Objective did not converge. You might want to increase the number of iterations. Duality gap: 271165898929.03647, tolerance: 1438198040.088288\n",
      "  positive)\n"
     ]
    },
    {
     "name": "stdout",
     "output_type": "stream",
     "text": [
      "[CV] ......................... alpha=0.5, l1_ratio=0.99, total=   0.5s\n",
      "[CV] alpha=0.5, l1_ratio=0.99 ........................................\n"
     ]
    },
    {
     "name": "stderr",
     "output_type": "stream",
     "text": [
      "C:\\Users\\kaile\\Anaconda3\\lib\\site-packages\\sklearn\\linear_model\\coordinate_descent.py:475: ConvergenceWarning: Objective did not converge. You might want to increase the number of iterations. Duality gap: 78565266783.87366, tolerance: 1345680018.2551236\n",
      "  positive)\n"
     ]
    },
    {
     "name": "stdout",
     "output_type": "stream",
     "text": [
      "[CV] ......................... alpha=0.5, l1_ratio=0.99, total=   0.6s\n",
      "[CV] alpha=0.5, l1_ratio=1 ...........................................\n"
     ]
    },
    {
     "name": "stderr",
     "output_type": "stream",
     "text": [
      "C:\\Users\\kaile\\Anaconda3\\lib\\site-packages\\sklearn\\linear_model\\coordinate_descent.py:475: ConvergenceWarning: Objective did not converge. You might want to increase the number of iterations. Duality gap: 327934607315.3929, tolerance: 1355206692.5276787\n",
      "  positive)\n"
     ]
    },
    {
     "name": "stdout",
     "output_type": "stream",
     "text": [
      "[CV] ............................ alpha=0.5, l1_ratio=1, total=   0.5s\n",
      "[CV] alpha=0.5, l1_ratio=1 ...........................................\n"
     ]
    },
    {
     "name": "stderr",
     "output_type": "stream",
     "text": [
      "C:\\Users\\kaile\\Anaconda3\\lib\\site-packages\\sklearn\\linear_model\\coordinate_descent.py:475: ConvergenceWarning: Objective did not converge. You might want to increase the number of iterations. Duality gap: 338237197947.099, tolerance: 1307913805.6588454\n",
      "  positive)\n"
     ]
    },
    {
     "name": "stdout",
     "output_type": "stream",
     "text": [
      "[CV] ............................ alpha=0.5, l1_ratio=1, total=   0.4s\n",
      "[CV] alpha=0.5, l1_ratio=1 ...........................................\n"
     ]
    },
    {
     "name": "stderr",
     "output_type": "stream",
     "text": [
      "C:\\Users\\kaile\\Anaconda3\\lib\\site-packages\\sklearn\\linear_model\\coordinate_descent.py:475: ConvergenceWarning: Objective did not converge. You might want to increase the number of iterations. Duality gap: 379687483380.0633, tolerance: 1415056940.006106\n",
      "  positive)\n"
     ]
    },
    {
     "name": "stdout",
     "output_type": "stream",
     "text": [
      "[CV] ............................ alpha=0.5, l1_ratio=1, total=   0.4s\n",
      "[CV] alpha=0.5, l1_ratio=1 ...........................................\n"
     ]
    },
    {
     "name": "stderr",
     "output_type": "stream",
     "text": [
      "C:\\Users\\kaile\\Anaconda3\\lib\\site-packages\\sklearn\\linear_model\\coordinate_descent.py:475: ConvergenceWarning: Objective did not converge. You might want to increase the number of iterations. Duality gap: 379101579850.9554, tolerance: 1438198040.088288\n",
      "  positive)\n"
     ]
    },
    {
     "name": "stdout",
     "output_type": "stream",
     "text": [
      "[CV] ............................ alpha=0.5, l1_ratio=1, total=   0.7s\n",
      "[CV] alpha=0.5, l1_ratio=1 ...........................................\n"
     ]
    },
    {
     "name": "stderr",
     "output_type": "stream",
     "text": [
      "C:\\Users\\kaile\\Anaconda3\\lib\\site-packages\\sklearn\\linear_model\\coordinate_descent.py:475: ConvergenceWarning: Objective did not converge. You might want to increase the number of iterations. Duality gap: 319383664939.16895, tolerance: 1345680018.2551236\n",
      "  positive)\n"
     ]
    },
    {
     "name": "stdout",
     "output_type": "stream",
     "text": [
      "[CV] ............................ alpha=0.5, l1_ratio=1, total=   0.8s\n",
      "[CV] alpha=1, l1_ratio=0.1 ...........................................\n",
      "[CV] ............................ alpha=1, l1_ratio=0.1, total=   0.1s\n",
      "[CV] alpha=1, l1_ratio=0.1 ...........................................\n",
      "[CV] ............................ alpha=1, l1_ratio=0.1, total=   0.1s\n",
      "[CV] alpha=1, l1_ratio=0.1 ...........................................\n",
      "[CV] ............................ alpha=1, l1_ratio=0.1, total=   0.1s\n",
      "[CV] alpha=1, l1_ratio=0.1 ...........................................\n",
      "[CV] ............................ alpha=1, l1_ratio=0.1, total=   0.1s\n",
      "[CV] alpha=1, l1_ratio=0.1 ...........................................\n",
      "[CV] ............................ alpha=1, l1_ratio=0.1, total=   0.1s\n",
      "[CV] alpha=1, l1_ratio=0.3 ...........................................\n",
      "[CV] ............................ alpha=1, l1_ratio=0.3, total=   0.1s\n",
      "[CV] alpha=1, l1_ratio=0.3 ...........................................\n",
      "[CV] ............................ alpha=1, l1_ratio=0.3, total=   0.1s\n",
      "[CV] alpha=1, l1_ratio=0.3 ...........................................\n",
      "[CV] ............................ alpha=1, l1_ratio=0.3, total=   0.1s\n",
      "[CV] alpha=1, l1_ratio=0.3 ...........................................\n",
      "[CV] ............................ alpha=1, l1_ratio=0.3, total=   0.1s\n",
      "[CV] alpha=1, l1_ratio=0.3 ...........................................\n",
      "[CV] ............................ alpha=1, l1_ratio=0.3, total=   0.1s\n",
      "[CV] alpha=1, l1_ratio=0.5 ...........................................\n",
      "[CV] ............................ alpha=1, l1_ratio=0.5, total=   0.1s\n",
      "[CV] alpha=1, l1_ratio=0.5 ...........................................\n",
      "[CV] ............................ alpha=1, l1_ratio=0.5, total=   0.1s\n",
      "[CV] alpha=1, l1_ratio=0.5 ...........................................\n",
      "[CV] ............................ alpha=1, l1_ratio=0.5, total=   0.1s\n",
      "[CV] alpha=1, l1_ratio=0.5 ...........................................\n",
      "[CV] ............................ alpha=1, l1_ratio=0.5, total=   0.1s\n",
      "[CV] alpha=1, l1_ratio=0.5 ...........................................\n",
      "[CV] ............................ alpha=1, l1_ratio=0.5, total=   0.1s\n",
      "[CV] alpha=1, l1_ratio=0.7 ...........................................\n",
      "[CV] ............................ alpha=1, l1_ratio=0.7, total=   0.1s\n",
      "[CV] alpha=1, l1_ratio=0.7 ...........................................\n",
      "[CV] ............................ alpha=1, l1_ratio=0.7, total=   0.1s\n",
      "[CV] alpha=1, l1_ratio=0.7 ...........................................\n",
      "[CV] ............................ alpha=1, l1_ratio=0.7, total=   0.1s\n",
      "[CV] alpha=1, l1_ratio=0.7 ...........................................\n",
      "[CV] ............................ alpha=1, l1_ratio=0.7, total=   0.1s\n",
      "[CV] alpha=1, l1_ratio=0.7 ...........................................\n",
      "[CV] ............................ alpha=1, l1_ratio=0.7, total=   0.1s\n",
      "[CV] alpha=1, l1_ratio=0.9 ...........................................\n",
      "[CV] ............................ alpha=1, l1_ratio=0.9, total=   0.1s\n",
      "[CV] alpha=1, l1_ratio=0.9 ...........................................\n",
      "[CV] ............................ alpha=1, l1_ratio=0.9, total=   0.1s\n",
      "[CV] alpha=1, l1_ratio=0.9 ...........................................\n",
      "[CV] ............................ alpha=1, l1_ratio=0.9, total=   0.1s\n",
      "[CV] alpha=1, l1_ratio=0.9 ...........................................\n",
      "[CV] ............................ alpha=1, l1_ratio=0.9, total=   0.1s\n",
      "[CV] alpha=1, l1_ratio=0.9 ...........................................\n",
      "[CV] ............................ alpha=1, l1_ratio=0.9, total=   0.1s\n",
      "[CV] alpha=1, l1_ratio=0.99 ..........................................\n",
      "[CV] ........................... alpha=1, l1_ratio=0.99, total=   0.4s\n",
      "[CV] alpha=1, l1_ratio=0.99 ..........................................\n",
      "[CV] ........................... alpha=1, l1_ratio=0.99, total=   0.5s\n",
      "[CV] alpha=1, l1_ratio=0.99 ..........................................\n",
      "[CV] ........................... alpha=1, l1_ratio=0.99, total=   0.5s\n",
      "[CV] alpha=1, l1_ratio=0.99 ..........................................\n",
      "[CV] ........................... alpha=1, l1_ratio=0.99, total=   0.6s\n",
      "[CV] alpha=1, l1_ratio=0.99 ..........................................\n",
      "[CV] ........................... alpha=1, l1_ratio=0.99, total=   0.5s\n",
      "[CV] alpha=1, l1_ratio=1 .............................................\n"
     ]
    },
    {
     "name": "stderr",
     "output_type": "stream",
     "text": [
      "C:\\Users\\kaile\\Anaconda3\\lib\\site-packages\\sklearn\\linear_model\\coordinate_descent.py:475: ConvergenceWarning: Objective did not converge. You might want to increase the number of iterations. Duality gap: 302531521066.76086, tolerance: 1355206692.5276787\n",
      "  positive)\n"
     ]
    },
    {
     "name": "stdout",
     "output_type": "stream",
     "text": [
      "[CV] .............................. alpha=1, l1_ratio=1, total=   0.9s\n",
      "[CV] alpha=1, l1_ratio=1 .............................................\n"
     ]
    },
    {
     "name": "stderr",
     "output_type": "stream",
     "text": [
      "C:\\Users\\kaile\\Anaconda3\\lib\\site-packages\\sklearn\\linear_model\\coordinate_descent.py:475: ConvergenceWarning: Objective did not converge. You might want to increase the number of iterations. Duality gap: 312733820929.5287, tolerance: 1307913805.6588454\n",
      "  positive)\n"
     ]
    },
    {
     "name": "stdout",
     "output_type": "stream",
     "text": [
      "[CV] .............................. alpha=1, l1_ratio=1, total=   0.7s\n",
      "[CV] alpha=1, l1_ratio=1 .............................................\n"
     ]
    },
    {
     "name": "stderr",
     "output_type": "stream",
     "text": [
      "C:\\Users\\kaile\\Anaconda3\\lib\\site-packages\\sklearn\\linear_model\\coordinate_descent.py:475: ConvergenceWarning: Objective did not converge. You might want to increase the number of iterations. Duality gap: 347531367248.851, tolerance: 1415056940.006106\n",
      "  positive)\n"
     ]
    },
    {
     "name": "stdout",
     "output_type": "stream",
     "text": [
      "[CV] .............................. alpha=1, l1_ratio=1, total=   0.5s\n",
      "[CV] alpha=1, l1_ratio=1 .............................................\n"
     ]
    },
    {
     "name": "stderr",
     "output_type": "stream",
     "text": [
      "C:\\Users\\kaile\\Anaconda3\\lib\\site-packages\\sklearn\\linear_model\\coordinate_descent.py:475: ConvergenceWarning: Objective did not converge. You might want to increase the number of iterations. Duality gap: 352595740834.969, tolerance: 1438198040.088288\n",
      "  positive)\n"
     ]
    },
    {
     "name": "stdout",
     "output_type": "stream",
     "text": [
      "[CV] .............................. alpha=1, l1_ratio=1, total=   0.5s\n",
      "[CV] alpha=1, l1_ratio=1 .............................................\n"
     ]
    },
    {
     "name": "stderr",
     "output_type": "stream",
     "text": [
      "C:\\Users\\kaile\\Anaconda3\\lib\\site-packages\\sklearn\\linear_model\\coordinate_descent.py:475: ConvergenceWarning: Objective did not converge. You might want to increase the number of iterations. Duality gap: 255889875128.1159, tolerance: 1345680018.2551236\n",
      "  positive)\n"
     ]
    },
    {
     "name": "stdout",
     "output_type": "stream",
     "text": [
      "[CV] .............................. alpha=1, l1_ratio=1, total=   0.7s\n",
      "[CV] alpha=10, l1_ratio=0.1 ..........................................\n",
      "[CV] ........................... alpha=10, l1_ratio=0.1, total=   0.0s\n",
      "[CV] alpha=10, l1_ratio=0.1 ..........................................\n",
      "[CV] ........................... alpha=10, l1_ratio=0.1, total=   0.0s\n",
      "[CV] alpha=10, l1_ratio=0.1 ..........................................\n",
      "[CV] ........................... alpha=10, l1_ratio=0.1, total=   0.0s\n",
      "[CV] alpha=10, l1_ratio=0.1 ..........................................\n",
      "[CV] ........................... alpha=10, l1_ratio=0.1, total=   0.1s\n",
      "[CV] alpha=10, l1_ratio=0.1 ..........................................\n",
      "[CV] ........................... alpha=10, l1_ratio=0.1, total=   0.1s\n",
      "[CV] alpha=10, l1_ratio=0.3 ..........................................\n",
      "[CV] ........................... alpha=10, l1_ratio=0.3, total=   0.0s\n",
      "[CV] alpha=10, l1_ratio=0.3 ..........................................\n",
      "[CV] ........................... alpha=10, l1_ratio=0.3, total=   0.0s\n",
      "[CV] alpha=10, l1_ratio=0.3 ..........................................\n",
      "[CV] ........................... alpha=10, l1_ratio=0.3, total=   0.0s\n",
      "[CV] alpha=10, l1_ratio=0.3 ..........................................\n",
      "[CV] ........................... alpha=10, l1_ratio=0.3, total=   0.0s\n",
      "[CV] alpha=10, l1_ratio=0.3 ..........................................\n",
      "[CV] ........................... alpha=10, l1_ratio=0.3, total=   0.0s\n",
      "[CV] alpha=10, l1_ratio=0.5 ..........................................\n",
      "[CV] ........................... alpha=10, l1_ratio=0.5, total=   0.0s\n",
      "[CV] alpha=10, l1_ratio=0.5 ..........................................\n",
      "[CV] ........................... alpha=10, l1_ratio=0.5, total=   0.0s\n",
      "[CV] alpha=10, l1_ratio=0.5 ..........................................\n",
      "[CV] ........................... alpha=10, l1_ratio=0.5, total=   0.0s\n",
      "[CV] alpha=10, l1_ratio=0.5 ..........................................\n",
      "[CV] ........................... alpha=10, l1_ratio=0.5, total=   0.0s\n",
      "[CV] alpha=10, l1_ratio=0.5 ..........................................\n",
      "[CV] ........................... alpha=10, l1_ratio=0.5, total=   0.0s\n",
      "[CV] alpha=10, l1_ratio=0.7 ..........................................\n",
      "[CV] ........................... alpha=10, l1_ratio=0.7, total=   0.1s\n",
      "[CV] alpha=10, l1_ratio=0.7 ..........................................\n",
      "[CV] ........................... alpha=10, l1_ratio=0.7, total=   0.0s\n",
      "[CV] alpha=10, l1_ratio=0.7 ..........................................\n",
      "[CV] ........................... alpha=10, l1_ratio=0.7, total=   0.0s\n",
      "[CV] alpha=10, l1_ratio=0.7 ..........................................\n",
      "[CV] ........................... alpha=10, l1_ratio=0.7, total=   0.0s\n",
      "[CV] alpha=10, l1_ratio=0.7 ..........................................\n",
      "[CV] ........................... alpha=10, l1_ratio=0.7, total=   0.0s\n",
      "[CV] alpha=10, l1_ratio=0.9 ..........................................\n",
      "[CV] ........................... alpha=10, l1_ratio=0.9, total=   0.0s\n",
      "[CV] alpha=10, l1_ratio=0.9 ..........................................\n",
      "[CV] ........................... alpha=10, l1_ratio=0.9, total=   0.1s\n",
      "[CV] alpha=10, l1_ratio=0.9 ..........................................\n",
      "[CV] ........................... alpha=10, l1_ratio=0.9, total=   0.0s\n",
      "[CV] alpha=10, l1_ratio=0.9 ..........................................\n",
      "[CV] ........................... alpha=10, l1_ratio=0.9, total=   0.1s\n",
      "[CV] alpha=10, l1_ratio=0.9 ..........................................\n",
      "[CV] ........................... alpha=10, l1_ratio=0.9, total=   0.1s\n",
      "[CV] alpha=10, l1_ratio=0.99 .........................................\n",
      "[CV] .......................... alpha=10, l1_ratio=0.99, total=   0.1s\n",
      "[CV] alpha=10, l1_ratio=0.99 .........................................\n",
      "[CV] .......................... alpha=10, l1_ratio=0.99, total=   0.1s\n",
      "[CV] alpha=10, l1_ratio=0.99 .........................................\n",
      "[CV] .......................... alpha=10, l1_ratio=0.99, total=   0.1s\n",
      "[CV] alpha=10, l1_ratio=0.99 .........................................\n",
      "[CV] .......................... alpha=10, l1_ratio=0.99, total=   0.2s\n",
      "[CV] alpha=10, l1_ratio=0.99 .........................................\n",
      "[CV] .......................... alpha=10, l1_ratio=0.99, total=   0.1s\n",
      "[CV] alpha=10, l1_ratio=1 ............................................\n"
     ]
    },
    {
     "name": "stderr",
     "output_type": "stream",
     "text": [
      "C:\\Users\\kaile\\Anaconda3\\lib\\site-packages\\sklearn\\linear_model\\coordinate_descent.py:475: ConvergenceWarning: Objective did not converge. You might want to increase the number of iterations. Duality gap: 13130431879.61499, tolerance: 1355206692.5276787\n",
      "  positive)\n"
     ]
    },
    {
     "name": "stdout",
     "output_type": "stream",
     "text": [
      "[CV] ............................. alpha=10, l1_ratio=1, total=   0.6s\n",
      "[CV] alpha=10, l1_ratio=1 ............................................\n"
     ]
    },
    {
     "name": "stderr",
     "output_type": "stream",
     "text": [
      "C:\\Users\\kaile\\Anaconda3\\lib\\site-packages\\sklearn\\linear_model\\coordinate_descent.py:475: ConvergenceWarning: Objective did not converge. You might want to increase the number of iterations. Duality gap: 4413768640.777344, tolerance: 1307913805.6588454\n",
      "  positive)\n"
     ]
    },
    {
     "name": "stdout",
     "output_type": "stream",
     "text": [
      "[CV] ............................. alpha=10, l1_ratio=1, total=   0.6s\n",
      "[CV] alpha=10, l1_ratio=1 ............................................\n"
     ]
    },
    {
     "name": "stderr",
     "output_type": "stream",
     "text": [
      "C:\\Users\\kaile\\Anaconda3\\lib\\site-packages\\sklearn\\linear_model\\coordinate_descent.py:475: ConvergenceWarning: Objective did not converge. You might want to increase the number of iterations. Duality gap: 36282285999.40784, tolerance: 1415056940.006106\n",
      "  positive)\n"
     ]
    },
    {
     "name": "stdout",
     "output_type": "stream",
     "text": [
      "[CV] ............................. alpha=10, l1_ratio=1, total=   0.7s\n",
      "[CV] alpha=10, l1_ratio=1 ............................................\n"
     ]
    },
    {
     "name": "stderr",
     "output_type": "stream",
     "text": [
      "C:\\Users\\kaile\\Anaconda3\\lib\\site-packages\\sklearn\\linear_model\\coordinate_descent.py:475: ConvergenceWarning: Objective did not converge. You might want to increase the number of iterations. Duality gap: 3970004908.5288086, tolerance: 1438198040.088288\n",
      "  positive)\n"
     ]
    },
    {
     "name": "stdout",
     "output_type": "stream",
     "text": [
      "[CV] ............................. alpha=10, l1_ratio=1, total=   0.5s\n",
      "[CV] alpha=10, l1_ratio=1 ............................................\n",
      "[CV] ............................. alpha=10, l1_ratio=1, total=   0.5s\n",
      "[CV] alpha=100, l1_ratio=0.1 .........................................\n",
      "[CV] .......................... alpha=100, l1_ratio=0.1, total=   0.0s\n",
      "[CV] alpha=100, l1_ratio=0.1 .........................................\n",
      "[CV] .......................... alpha=100, l1_ratio=0.1, total=   0.0s\n",
      "[CV] alpha=100, l1_ratio=0.1 .........................................\n",
      "[CV] .......................... alpha=100, l1_ratio=0.1, total=   0.0s\n",
      "[CV] alpha=100, l1_ratio=0.1 .........................................\n",
      "[CV] .......................... alpha=100, l1_ratio=0.1, total=   0.0s\n",
      "[CV] alpha=100, l1_ratio=0.1 .........................................\n",
      "[CV] .......................... alpha=100, l1_ratio=0.1, total=   0.0s\n",
      "[CV] alpha=100, l1_ratio=0.3 .........................................\n",
      "[CV] .......................... alpha=100, l1_ratio=0.3, total=   0.0s\n",
      "[CV] alpha=100, l1_ratio=0.3 .........................................\n",
      "[CV] .......................... alpha=100, l1_ratio=0.3, total=   0.0s\n",
      "[CV] alpha=100, l1_ratio=0.3 .........................................\n",
      "[CV] .......................... alpha=100, l1_ratio=0.3, total=   0.0s\n",
      "[CV] alpha=100, l1_ratio=0.3 .........................................\n",
      "[CV] .......................... alpha=100, l1_ratio=0.3, total=   0.0s\n",
      "[CV] alpha=100, l1_ratio=0.3 .........................................\n",
      "[CV] .......................... alpha=100, l1_ratio=0.3, total=   0.0s\n",
      "[CV] alpha=100, l1_ratio=0.5 .........................................\n",
      "[CV] .......................... alpha=100, l1_ratio=0.5, total=   0.0s\n",
      "[CV] alpha=100, l1_ratio=0.5 .........................................\n",
      "[CV] .......................... alpha=100, l1_ratio=0.5, total=   0.0s\n",
      "[CV] alpha=100, l1_ratio=0.5 .........................................\n",
      "[CV] .......................... alpha=100, l1_ratio=0.5, total=   0.0s\n",
      "[CV] alpha=100, l1_ratio=0.5 .........................................\n",
      "[CV] .......................... alpha=100, l1_ratio=0.5, total=   0.0s\n",
      "[CV] alpha=100, l1_ratio=0.5 .........................................\n",
      "[CV] .......................... alpha=100, l1_ratio=0.5, total=   0.0s\n",
      "[CV] alpha=100, l1_ratio=0.7 .........................................\n",
      "[CV] .......................... alpha=100, l1_ratio=0.7, total=   0.0s\n",
      "[CV] alpha=100, l1_ratio=0.7 .........................................\n",
      "[CV] .......................... alpha=100, l1_ratio=0.7, total=   0.0s\n",
      "[CV] alpha=100, l1_ratio=0.7 .........................................\n",
      "[CV] .......................... alpha=100, l1_ratio=0.7, total=   0.0s\n",
      "[CV] alpha=100, l1_ratio=0.7 .........................................\n",
      "[CV] .......................... alpha=100, l1_ratio=0.7, total=   0.0s\n",
      "[CV] alpha=100, l1_ratio=0.7 .........................................\n",
      "[CV] .......................... alpha=100, l1_ratio=0.7, total=   0.0s\n",
      "[CV] alpha=100, l1_ratio=0.9 .........................................\n",
      "[CV] .......................... alpha=100, l1_ratio=0.9, total=   0.0s\n",
      "[CV] alpha=100, l1_ratio=0.9 .........................................\n",
      "[CV] .......................... alpha=100, l1_ratio=0.9, total=   0.0s\n",
      "[CV] alpha=100, l1_ratio=0.9 .........................................\n",
      "[CV] .......................... alpha=100, l1_ratio=0.9, total=   0.0s\n",
      "[CV] alpha=100, l1_ratio=0.9 .........................................\n",
      "[CV] .......................... alpha=100, l1_ratio=0.9, total=   0.0s\n",
      "[CV] alpha=100, l1_ratio=0.9 .........................................\n",
      "[CV] .......................... alpha=100, l1_ratio=0.9, total=   0.0s\n",
      "[CV] alpha=100, l1_ratio=0.99 ........................................\n",
      "[CV] ......................... alpha=100, l1_ratio=0.99, total=   0.0s\n",
      "[CV] alpha=100, l1_ratio=0.99 ........................................\n",
      "[CV] ......................... alpha=100, l1_ratio=0.99, total=   0.0s\n",
      "[CV] alpha=100, l1_ratio=0.99 ........................................\n",
      "[CV] ......................... alpha=100, l1_ratio=0.99, total=   0.0s\n",
      "[CV] alpha=100, l1_ratio=0.99 ........................................\n",
      "[CV] ......................... alpha=100, l1_ratio=0.99, total=   0.0s\n",
      "[CV] alpha=100, l1_ratio=0.99 ........................................\n",
      "[CV] ......................... alpha=100, l1_ratio=0.99, total=   0.0s\n",
      "[CV] alpha=100, l1_ratio=1 ...........................................\n",
      "[CV] ............................ alpha=100, l1_ratio=1, total=   0.3s\n",
      "[CV] alpha=100, l1_ratio=1 ...........................................\n",
      "[CV] ............................ alpha=100, l1_ratio=1, total=   0.2s\n",
      "[CV] alpha=100, l1_ratio=1 ...........................................\n",
      "[CV] ............................ alpha=100, l1_ratio=1, total=   0.3s\n",
      "[CV] alpha=100, l1_ratio=1 ...........................................\n",
      "[CV] ............................ alpha=100, l1_ratio=1, total=   0.3s\n",
      "[CV] alpha=100, l1_ratio=1 ...........................................\n",
      "[CV] ............................ alpha=100, l1_ratio=1, total=   0.3s\n"
     ]
    },
    {
     "name": "stderr",
     "output_type": "stream",
     "text": [
      "[Parallel(n_jobs=1)]: Done 175 out of 175 | elapsed:   37.9s finished\n"
     ]
    },
    {
     "data": {
      "text/plain": [
       "GridSearchCV(cv=5, error_score='raise-deprecating',\n",
       "             estimator=ElasticNet(alpha=1.0, copy_X=True, fit_intercept=True,\n",
       "                                  l1_ratio=0.5, max_iter=1000, normalize=False,\n",
       "                                  positive=False, precompute=False,\n",
       "                                  random_state=None, selection='cyclic',\n",
       "                                  tol=0.0001, warm_start=False),\n",
       "             iid='warn', n_jobs=None,\n",
       "             param_grid={'alpha': [0.1, 0.5, 1, 10, 100],\n",
       "                         'l1_ratio': [0.1, 0.3, 0.5, 0.7, 0.9, 0.99, 1]},\n",
       "             pre_dispatch='2*n_jobs', refit=True, return_train_score=False,\n",
       "             scoring='neg_mean_squared_error', verbose=2)"
      ]
     },
     "execution_count": 17,
     "metadata": {},
     "output_type": "execute_result"
    }
   ],
   "source": [
    "model.fit(X_train, y_train)"
   ]
  },
  {
   "cell_type": "markdown",
   "metadata": {},
   "source": [
    "**TASK: Display the best combination of parameters for your model**"
   ]
  },
  {
   "cell_type": "code",
   "execution_count": 18,
   "metadata": {},
   "outputs": [
    {
     "data": {
      "text/plain": [
       "{'alpha': 100, 'l1_ratio': 1}"
      ]
     },
     "execution_count": 18,
     "metadata": {},
     "output_type": "execute_result"
    }
   ],
   "source": [
    "model.best_params_"
   ]
  },
  {
   "cell_type": "code",
   "execution_count": 54,
   "metadata": {},
   "outputs": [
    {
     "data": {
      "text/plain": [
       "{'alpha': 100, 'l1_ratio': 1}"
      ]
     },
     "execution_count": 54,
     "metadata": {},
     "output_type": "execute_result"
    }
   ],
   "source": []
  },
  {
   "cell_type": "markdown",
   "metadata": {},
   "source": [
    "**TASK: Evaluate your model's performance on the unseen 10% scaled test set. In the solutions notebook we achieved an MAE of $\\$$14149 and a RMSE of $\\$$20532**"
   ]
  },
  {
   "cell_type": "code",
   "execution_count": 19,
   "metadata": {},
   "outputs": [],
   "source": [
    "y_pred = model.predict(X_test)"
   ]
  },
  {
   "cell_type": "code",
   "execution_count": 20,
   "metadata": {},
   "outputs": [],
   "source": [
    "from sklearn.metrics import mean_absolute_error, mean_squared_error"
   ]
  },
  {
   "cell_type": "code",
   "execution_count": 21,
   "metadata": {},
   "outputs": [],
   "source": [
    "MAE = mean_absolute_error(y_test, y_pred)"
   ]
  },
  {
   "cell_type": "code",
   "execution_count": 22,
   "metadata": {},
   "outputs": [],
   "source": [
    "RMSE = np.sqrt(mean_squared_error(y_test, y_pred))"
   ]
  },
  {
   "cell_type": "code",
   "execution_count": 23,
   "metadata": {},
   "outputs": [
    {
     "data": {
      "text/plain": [
       "14195.35490056217"
      ]
     },
     "execution_count": 23,
     "metadata": {},
     "output_type": "execute_result"
    }
   ],
   "source": [
    "MAE"
   ]
  },
  {
   "cell_type": "code",
   "execution_count": 24,
   "metadata": {},
   "outputs": [
    {
     "data": {
      "text/plain": [
       "20558.508566893164"
      ]
     },
     "execution_count": 24,
     "metadata": {},
     "output_type": "execute_result"
    }
   ],
   "source": [
    "RMSE"
   ]
  },
  {
   "cell_type": "code",
   "execution_count": 47,
   "metadata": {},
   "outputs": [
    {
     "data": {
      "text/plain": [
       "14149.055026374837"
      ]
     },
     "execution_count": 47,
     "metadata": {},
     "output_type": "execute_result"
    }
   ],
   "source": []
  },
  {
   "cell_type": "code",
   "execution_count": 48,
   "metadata": {},
   "outputs": [
    {
     "data": {
      "text/plain": [
       "20532.890234901013"
      ]
     },
     "execution_count": 48,
     "metadata": {},
     "output_type": "execute_result"
    }
   ],
   "source": []
  },
  {
   "cell_type": "markdown",
   "metadata": {},
   "source": [
    "## Great work!\n",
    "\n",
    "----"
   ]
  }
 ],
 "metadata": {
  "kernelspec": {
   "display_name": "Python 3",
   "language": "python",
   "name": "python3"
  },
  "language_info": {
   "codemirror_mode": {
    "name": "ipython",
    "version": 3
   },
   "file_extension": ".py",
   "mimetype": "text/x-python",
   "name": "python",
   "nbconvert_exporter": "python",
   "pygments_lexer": "ipython3",
   "version": "3.7.3"
  }
 },
 "nbformat": 4,
 "nbformat_minor": 2
}
